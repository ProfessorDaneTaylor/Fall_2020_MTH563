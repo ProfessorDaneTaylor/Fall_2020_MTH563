{
 "cells": [
  {
   "cell_type": "markdown",
   "metadata": {},
   "source": [
    "# Semester-Long Project \n",
    "# MTH 563\n",
    "## Student D\n",
    "### Task 5 Tutorial\n",
    "Topic: Analysis on Data of Incidental data of Boston (AUGUST 2015 - TO DATE) \n",
    "source: https://data.boston.gov/dataset/crime-incident-reports-august-2015-to-date-source-new-system\n",
    "\n",
    "Crime is a very serious problem in our daily life. Maybe you think it's far to you, but it always happen in our society. \n",
    "Crime incident reports are provided by Boston Police Department (BPD) to document the initial details surrounding an incident to which BPD officers respond. In this project, the dataset containing records from the new crime incident report system, which includes a reduced set of fields focused on capturing the type of incident as well as when and where it occurred. Records in the new system begin in June of 2015.\n",
    "\n",
    "According to my project, I want to find the relationship of crime incidents to the date, time, and position in Boston. Which part is safer and which part is more dangerous in Boston.\n"
   ]
  },
  {
   "cell_type": "code",
   "execution_count": 4,
   "metadata": {},
   "outputs": [
    {
     "name": "stdout",
     "output_type": "stream",
     "text": [
      "Requirement already satisfied: folium in c:\\users\\16429\\anaconda3\\lib\\site-packages (0.11.0)\n",
      "Requirement already satisfied: branca>=0.3.0 in c:\\users\\16429\\anaconda3\\lib\\site-packages (from folium) (0.4.1)\n",
      "Requirement already satisfied: numpy in c:\\users\\16429\\anaconda3\\lib\\site-packages (from folium) (1.18.5)\n",
      "Requirement already satisfied: jinja2>=2.9 in c:\\users\\16429\\anaconda3\\lib\\site-packages (from folium) (2.11.2)\n",
      "Requirement already satisfied: requests in c:\\users\\16429\\anaconda3\\lib\\site-packages (from folium) (2.24.0)\n",
      "Requirement already satisfied: MarkupSafe>=0.23 in c:\\users\\16429\\anaconda3\\lib\\site-packages (from jinja2>=2.9->folium) (1.1.1)\n",
      "Requirement already satisfied: idna<3,>=2.5 in c:\\users\\16429\\anaconda3\\lib\\site-packages (from requests->folium) (2.10)\n",
      "Requirement already satisfied: chardet<4,>=3.0.2 in c:\\users\\16429\\anaconda3\\lib\\site-packages (from requests->folium) (3.0.4)\n",
      "Requirement already satisfied: certifi>=2017.4.17 in c:\\users\\16429\\anaconda3\\lib\\site-packages (from requests->folium) (2020.6.20)\n",
      "Requirement already satisfied: urllib3!=1.25.0,!=1.25.1,<1.26,>=1.21.1 in c:\\users\\16429\\anaconda3\\lib\\site-packages (from requests->folium) (1.25.9)\n"
     ]
    }
   ],
   "source": [
    "import os\n",
    "!pip install folium"
   ]
  },
  {
   "cell_type": "markdown",
   "metadata": {},
   "source": [
    "# Import the data to sqlite3 database\n",
    "## Define Basical Function for Database minipulation and clean the data\n",
    "#### Used SQLite 3 to setup and manage the dataset. SQLite is a relational database management system. It easily to use and no need clients and servers. The searching speed is very high."
   ]
  },
  {
   "cell_type": "code",
   "execution_count": 5,
   "metadata": {},
   "outputs": [],
   "source": [
    "import sqlite3\n",
    "from sqlite3 import Error\n",
    "\n",
    "def create_connection(db_file, delete_db=False):\n",
    "    if delete_db and os.path.exists(db_file):\n",
    "        os.remove(db_file)\n",
    "    conn = None\n",
    "    try:\n",
    "        conn = sqlite3.connect(db_file)\n",
    "        conn.execute(\"PRAGMA foreign_keys = 1\")\n",
    "    except Error as e:\n",
    "        print(e)\n",
    "\n",
    "    return conn\n",
    "\n",
    "\n",
    "def sql_execute(conn, create_table_sql):\n",
    "    try:\n",
    "        c = conn.cursor()\n",
    "        c.execute(create_table_sql)\n",
    "    except Error as e:\n",
    "        print(e)"
   ]
  },
  {
   "cell_type": "code",
   "execution_count": 6,
   "metadata": {},
   "outputs": [
    {
     "name": "stderr",
     "output_type": "stream",
     "text": [
      "C:\\Users\\16429\\anaconda3\\lib\\site-packages\\IPython\\core\\interactiveshell.py:3071: DtypeWarning: Columns (0,2,6,12) have mixed types.Specify dtype option on import or set low_memory=False.\n",
      "  has_raised = await self.run_ast_nodes(code_ast.body, cell_name,\n"
     ]
    },
    {
     "data": {
      "text/html": [
       "<div>\n",
       "<style scoped>\n",
       "    .dataframe tbody tr th:only-of-type {\n",
       "        vertical-align: middle;\n",
       "    }\n",
       "\n",
       "    .dataframe tbody tr th {\n",
       "        vertical-align: top;\n",
       "    }\n",
       "\n",
       "    .dataframe thead th {\n",
       "        text-align: right;\n",
       "    }\n",
       "</style>\n",
       "<table border=\"1\" class=\"dataframe\">\n",
       "  <thead>\n",
       "    <tr style=\"text-align: right;\">\n",
       "      <th></th>\n",
       "      <th>INCIDENT_NUMBER</th>\n",
       "      <th>OFFENSE_CODE</th>\n",
       "      <th>OFFENSE_CODE_GROUP</th>\n",
       "      <th>OFFENSE_DESCRIPTION</th>\n",
       "      <th>DISTRICT</th>\n",
       "      <th>REPORTING_AREA</th>\n",
       "      <th>SHOOTING</th>\n",
       "      <th>OCCURRED_ON_DATE</th>\n",
       "      <th>YEAR</th>\n",
       "      <th>MONTH</th>\n",
       "      <th>DAY_OF_WEEK</th>\n",
       "      <th>HOUR</th>\n",
       "      <th>UCR_PART</th>\n",
       "      <th>STREET</th>\n",
       "      <th>Lat</th>\n",
       "      <th>Long</th>\n",
       "      <th>Location</th>\n",
       "    </tr>\n",
       "  </thead>\n",
       "  <tbody>\n",
       "    <tr>\n",
       "      <th>0</th>\n",
       "      <td>TESTTEST2</td>\n",
       "      <td>423</td>\n",
       "      <td>NaN</td>\n",
       "      <td>ASSAULT - AGGRAVATED</td>\n",
       "      <td>External</td>\n",
       "      <td></td>\n",
       "      <td>0</td>\n",
       "      <td>2019-10-16 00:00:00</td>\n",
       "      <td>2019</td>\n",
       "      <td>10</td>\n",
       "      <td>Wednesday</td>\n",
       "      <td>0</td>\n",
       "      <td>NaN</td>\n",
       "      <td>RIVERVIEW DR</td>\n",
       "      <td>NaN</td>\n",
       "      <td>NaN</td>\n",
       "      <td>(0.00000000, 0.00000000)</td>\n",
       "    </tr>\n",
       "    <tr>\n",
       "      <th>1</th>\n",
       "      <td>S97333701</td>\n",
       "      <td>3301</td>\n",
       "      <td>NaN</td>\n",
       "      <td>VERBAL DISPUTE</td>\n",
       "      <td>C6</td>\n",
       "      <td>915</td>\n",
       "      <td>0</td>\n",
       "      <td>2020-07-18 14:34:00</td>\n",
       "      <td>2020</td>\n",
       "      <td>7</td>\n",
       "      <td>Saturday</td>\n",
       "      <td>14</td>\n",
       "      <td>NaN</td>\n",
       "      <td>MARY BOYLE WAY</td>\n",
       "      <td>42.330813</td>\n",
       "      <td>-71.051368</td>\n",
       "      <td>(42.33081300, -71.05136800)</td>\n",
       "    </tr>\n",
       "    <tr>\n",
       "      <th>2</th>\n",
       "      <td>S47513131</td>\n",
       "      <td>2647</td>\n",
       "      <td>NaN</td>\n",
       "      <td>THREATS TO DO BODILY HARM</td>\n",
       "      <td>E18</td>\n",
       "      <td>530</td>\n",
       "      <td>0</td>\n",
       "      <td>2020-06-24 10:15:00</td>\n",
       "      <td>2020</td>\n",
       "      <td>6</td>\n",
       "      <td>Wednesday</td>\n",
       "      <td>10</td>\n",
       "      <td>NaN</td>\n",
       "      <td>READVILLE ST</td>\n",
       "      <td>42.239491</td>\n",
       "      <td>-71.135954</td>\n",
       "      <td>(42.23949100, -71.13595400)</td>\n",
       "    </tr>\n",
       "    <tr>\n",
       "      <th>3</th>\n",
       "      <td>I92102201</td>\n",
       "      <td>3301</td>\n",
       "      <td>NaN</td>\n",
       "      <td>VERBAL DISPUTE</td>\n",
       "      <td>E13</td>\n",
       "      <td>583</td>\n",
       "      <td>0</td>\n",
       "      <td>2019-12-20 03:08:00</td>\n",
       "      <td>2019</td>\n",
       "      <td>12</td>\n",
       "      <td>Friday</td>\n",
       "      <td>3</td>\n",
       "      <td>NaN</td>\n",
       "      <td>DAY ST</td>\n",
       "      <td>42.325122</td>\n",
       "      <td>-71.107779</td>\n",
       "      <td>(42.32512200, -71.10777900)</td>\n",
       "    </tr>\n",
       "    <tr>\n",
       "      <th>4</th>\n",
       "      <td>I92097173</td>\n",
       "      <td>3115</td>\n",
       "      <td>NaN</td>\n",
       "      <td>INVESTIGATE PERSON</td>\n",
       "      <td>C11</td>\n",
       "      <td>355</td>\n",
       "      <td>0</td>\n",
       "      <td>2019-10-23 00:00:00</td>\n",
       "      <td>2019</td>\n",
       "      <td>10</td>\n",
       "      <td>Wednesday</td>\n",
       "      <td>0</td>\n",
       "      <td>NaN</td>\n",
       "      <td>GIBSON ST</td>\n",
       "      <td>42.297555</td>\n",
       "      <td>-71.059709</td>\n",
       "      <td>(42.29755500, -71.05970900)</td>\n",
       "    </tr>\n",
       "    <tr>\n",
       "      <th>...</th>\n",
       "      <td>...</td>\n",
       "      <td>...</td>\n",
       "      <td>...</td>\n",
       "      <td>...</td>\n",
       "      <td>...</td>\n",
       "      <td>...</td>\n",
       "      <td>...</td>\n",
       "      <td>...</td>\n",
       "      <td>...</td>\n",
       "      <td>...</td>\n",
       "      <td>...</td>\n",
       "      <td>...</td>\n",
       "      <td>...</td>\n",
       "      <td>...</td>\n",
       "      <td>...</td>\n",
       "      <td>...</td>\n",
       "      <td>...</td>\n",
       "    </tr>\n",
       "    <tr>\n",
       "      <th>529755</th>\n",
       "      <td>20062356</td>\n",
       "      <td>1107</td>\n",
       "      <td>NaN</td>\n",
       "      <td>FRAUD - IMPERSONATION</td>\n",
       "      <td>E18</td>\n",
       "      <td>520</td>\n",
       "      <td>0</td>\n",
       "      <td>2020-08-28 18:39:00</td>\n",
       "      <td>2020</td>\n",
       "      <td>8</td>\n",
       "      <td>Friday</td>\n",
       "      <td>18</td>\n",
       "      <td>NaN</td>\n",
       "      <td>HYDE PARK AVE</td>\n",
       "      <td>42.256215</td>\n",
       "      <td>-71.124019</td>\n",
       "      <td>(42.25621500, -71.12401900)</td>\n",
       "    </tr>\n",
       "    <tr>\n",
       "      <th>529756</th>\n",
       "      <td>20054040</td>\n",
       "      <td>3501</td>\n",
       "      <td>NaN</td>\n",
       "      <td>MISSING PERSON</td>\n",
       "      <td>C11</td>\n",
       "      <td></td>\n",
       "      <td>0</td>\n",
       "      <td>2020-07-30 15:30:00</td>\n",
       "      <td>2020</td>\n",
       "      <td>7</td>\n",
       "      <td>Thursday</td>\n",
       "      <td>15</td>\n",
       "      <td>NaN</td>\n",
       "      <td>GIBSON ST</td>\n",
       "      <td>42.297555</td>\n",
       "      <td>-71.059709</td>\n",
       "      <td>(42.29755500, -71.05970900)</td>\n",
       "    </tr>\n",
       "    <tr>\n",
       "      <th>529757</th>\n",
       "      <td>20046400</td>\n",
       "      <td>1501</td>\n",
       "      <td>NaN</td>\n",
       "      <td>WEAPON VIOLATION - CARRY/ POSSESSING/ SALE/ TR...</td>\n",
       "      <td>B2</td>\n",
       "      <td>330</td>\n",
       "      <td>0</td>\n",
       "      <td>2020-07-02 01:38:00</td>\n",
       "      <td>2020</td>\n",
       "      <td>7</td>\n",
       "      <td>Thursday</td>\n",
       "      <td>1</td>\n",
       "      <td>NaN</td>\n",
       "      <td>PASADENA RD</td>\n",
       "      <td>42.305760</td>\n",
       "      <td>-71.083771</td>\n",
       "      <td>(42.30576000, -71.08377100)</td>\n",
       "    </tr>\n",
       "    <tr>\n",
       "      <th>529758</th>\n",
       "      <td>20038446</td>\n",
       "      <td>1501</td>\n",
       "      <td>NaN</td>\n",
       "      <td>WEAPON VIOLATION - CARRY/ POSSESSING/ SALE/ TR...</td>\n",
       "      <td>B2</td>\n",
       "      <td>300</td>\n",
       "      <td>0</td>\n",
       "      <td>2020-06-03 01:15:00</td>\n",
       "      <td>2020</td>\n",
       "      <td>6</td>\n",
       "      <td>Wednesday</td>\n",
       "      <td>1</td>\n",
       "      <td>NaN</td>\n",
       "      <td>WASHINGTON ST</td>\n",
       "      <td>42.323807</td>\n",
       "      <td>-71.089150</td>\n",
       "      <td>(42.32380700, -71.08915000)</td>\n",
       "    </tr>\n",
       "    <tr>\n",
       "      <th>529759</th>\n",
       "      <td>20030892</td>\n",
       "      <td>540</td>\n",
       "      <td>NaN</td>\n",
       "      <td>BURGLARY - COMMERICAL</td>\n",
       "      <td>C11</td>\n",
       "      <td>380</td>\n",
       "      <td>0</td>\n",
       "      <td>2020-05-03 00:00:00</td>\n",
       "      <td>2020</td>\n",
       "      <td>5</td>\n",
       "      <td>Sunday</td>\n",
       "      <td>0</td>\n",
       "      <td>NaN</td>\n",
       "      <td>GALLIVAN BLVD</td>\n",
       "      <td>42.283700</td>\n",
       "      <td>-71.047761</td>\n",
       "      <td>(42.28370000, -71.04776100)</td>\n",
       "    </tr>\n",
       "  </tbody>\n",
       "</table>\n",
       "<p>529760 rows × 17 columns</p>\n",
       "</div>"
      ],
      "text/plain": [
       "       INCIDENT_NUMBER  OFFENSE_CODE OFFENSE_CODE_GROUP  \\\n",
       "0            TESTTEST2           423                NaN   \n",
       "1            S97333701          3301                NaN   \n",
       "2            S47513131          2647                NaN   \n",
       "3            I92102201          3301                NaN   \n",
       "4            I92097173          3115                NaN   \n",
       "...                ...           ...                ...   \n",
       "529755        20062356          1107                NaN   \n",
       "529756        20054040          3501                NaN   \n",
       "529757        20046400          1501                NaN   \n",
       "529758        20038446          1501                NaN   \n",
       "529759        20030892           540                NaN   \n",
       "\n",
       "                                      OFFENSE_DESCRIPTION  DISTRICT  \\\n",
       "0                                    ASSAULT - AGGRAVATED  External   \n",
       "1                                          VERBAL DISPUTE        C6   \n",
       "2                               THREATS TO DO BODILY HARM       E18   \n",
       "3                                          VERBAL DISPUTE       E13   \n",
       "4                                      INVESTIGATE PERSON       C11   \n",
       "...                                                   ...       ...   \n",
       "529755                              FRAUD - IMPERSONATION       E18   \n",
       "529756                                     MISSING PERSON       C11   \n",
       "529757  WEAPON VIOLATION - CARRY/ POSSESSING/ SALE/ TR...        B2   \n",
       "529758  WEAPON VIOLATION - CARRY/ POSSESSING/ SALE/ TR...        B2   \n",
       "529759                              BURGLARY - COMMERICAL       C11   \n",
       "\n",
       "       REPORTING_AREA SHOOTING     OCCURRED_ON_DATE  YEAR  MONTH DAY_OF_WEEK  \\\n",
       "0                            0  2019-10-16 00:00:00  2019     10   Wednesday   \n",
       "1                 915        0  2020-07-18 14:34:00  2020      7    Saturday   \n",
       "2                 530        0  2020-06-24 10:15:00  2020      6   Wednesday   \n",
       "3                 583        0  2019-12-20 03:08:00  2019     12      Friday   \n",
       "4                 355        0  2019-10-23 00:00:00  2019     10   Wednesday   \n",
       "...               ...      ...                  ...   ...    ...         ...   \n",
       "529755            520        0  2020-08-28 18:39:00  2020      8      Friday   \n",
       "529756                       0  2020-07-30 15:30:00  2020      7    Thursday   \n",
       "529757            330        0  2020-07-02 01:38:00  2020      7    Thursday   \n",
       "529758            300        0  2020-06-03 01:15:00  2020      6   Wednesday   \n",
       "529759            380        0  2020-05-03 00:00:00  2020      5      Sunday   \n",
       "\n",
       "        HOUR UCR_PART          STREET        Lat       Long  \\\n",
       "0          0      NaN    RIVERVIEW DR        NaN        NaN   \n",
       "1         14      NaN  MARY BOYLE WAY  42.330813 -71.051368   \n",
       "2         10      NaN    READVILLE ST  42.239491 -71.135954   \n",
       "3          3      NaN          DAY ST  42.325122 -71.107779   \n",
       "4          0      NaN       GIBSON ST  42.297555 -71.059709   \n",
       "...      ...      ...             ...        ...        ...   \n",
       "529755    18      NaN   HYDE PARK AVE  42.256215 -71.124019   \n",
       "529756    15      NaN       GIBSON ST  42.297555 -71.059709   \n",
       "529757     1      NaN     PASADENA RD  42.305760 -71.083771   \n",
       "529758     1      NaN   WASHINGTON ST  42.323807 -71.089150   \n",
       "529759     0      NaN   GALLIVAN BLVD  42.283700 -71.047761   \n",
       "\n",
       "                           Location  \n",
       "0          (0.00000000, 0.00000000)  \n",
       "1       (42.33081300, -71.05136800)  \n",
       "2       (42.23949100, -71.13595400)  \n",
       "3       (42.32512200, -71.10777900)  \n",
       "4       (42.29755500, -71.05970900)  \n",
       "...                             ...  \n",
       "529755  (42.25621500, -71.12401900)  \n",
       "529756  (42.29755500, -71.05970900)  \n",
       "529757  (42.30576000, -71.08377100)  \n",
       "529758  (42.32380700, -71.08915000)  \n",
       "529759  (42.28370000, -71.04776100)  \n",
       "\n",
       "[529760 rows x 17 columns]"
      ]
     },
     "execution_count": 6,
     "metadata": {},
     "output_type": "execute_result"
    }
   ],
   "source": [
    "import pandas as pd\n",
    "df = pd.read_csv('tmpkh5e5yc4_new.csv')\n",
    "df"
   ]
  },
  {
   "cell_type": "code",
   "execution_count": 7,
   "metadata": {},
   "outputs": [],
   "source": [
    "db_file = 'Crimedata.db'\n",
    "conn = create_connection(db_file, delete_db=True)\n",
    "conn.close()"
   ]
  },
  {
   "cell_type": "code",
   "execution_count": 8,
   "metadata": {},
   "outputs": [],
   "source": [
    "conn = create_connection(db_file, delete_db = False)"
   ]
  },
  {
   "cell_type": "code",
   "execution_count": 9,
   "metadata": {},
   "outputs": [],
   "source": [
    "df.to_sql('data', conn, if_exists='append', index=False) "
   ]
  },
  {
   "cell_type": "code",
   "execution_count": 10,
   "metadata": {},
   "outputs": [],
   "source": [
    "cursor = conn.cursor()"
   ]
  },
  {
   "cell_type": "code",
   "execution_count": 11,
   "metadata": {},
   "outputs": [
    {
     "name": "stdout",
     "output_type": "stream",
     "text": [
      "[('data',)]\n"
     ]
    }
   ],
   "source": [
    "cursor.execute(\"select name from sqlite_master where type='table' order by name\")\n",
    "print (cursor.fetchall())"
   ]
  },
  {
   "cell_type": "code",
   "execution_count": 12,
   "metadata": {},
   "outputs": [
    {
     "name": "stdout",
     "output_type": "stream",
     "text": [
      "['INCIDENT_NUMBER', 'OFFENSE_CODE', 'OFFENSE_CODE_GROUP', 'OFFENSE_DESCRIPTION', 'DISTRICT', 'REPORTING_AREA', 'SHOOTING', 'OCCURRED_ON_DATE', 'YEAR', 'MONTH', 'DAY_OF_WEEK', 'HOUR', 'UCR_PART', 'STREET', 'Lat', 'Long', 'Location']\n"
     ]
    }
   ],
   "source": [
    "cursor.execute(\"select * from data\")\n",
    "col_name_list = [tuple[0] for tuple in cursor.description]\n",
    "print (col_name_list)"
   ]
  },
  {
   "cell_type": "markdown",
   "metadata": {},
   "source": [
    "## Divide the raw data into 4 tables\n",
    "CrimeIncident: General Infomation of the crime incident\n",
    "- <u>IncidentNumber</u>\n",
    "- <u>OffenseCode</u>\n",
    "- <u>OccurDate</u>\n",
    "- <u>Location</u>\n",
    "\n",
    "CrimeLocation: Infomation of the site of the crime incident\n",
    "- <u>IncidentNumber</u>\n",
    "- <u>Longtitude</u>\n",
    "- <u>Latitude</u>\n",
    "- <u>Street</u>\n",
    "- <u>District</u>\n",
    "\n",
    "CrimeDescript: More detailed infomation of the crime incident\n",
    "\n",
    "- <u>IncidentNumber</u>\n",
    "- <u>OffenseGroup</u>\n",
    "- <u>Shooting</u>\n",
    "- <u>OffenseCode</u>\n",
    "- <u>UCRPart</u>\n",
    "\n",
    "CrimeDateTime: The data and time of the crime incident\n",
    "\n",
    "- <u>IncidentNumber</u>\n",
    "- <u>Year</u>\n",
    "- <u>Day</u>\n",
    "- <u>Month</u>\n",
    "- <u>Hour</u>"
   ]
  },
  {
   "cell_type": "code",
   "execution_count": 13,
   "metadata": {},
   "outputs": [
    {
     "data": {
      "text/plain": [
       "<sqlite3.Cursor at 0x20aefe0d730>"
      ]
     },
     "execution_count": 13,
     "metadata": {},
     "output_type": "execute_result"
    }
   ],
   "source": [
    "cursor.execute('drop table if EXISTS CrimeIncident')\n",
    "cursor.execute('CREATE TABLE CrimeIncident (IncidentNumber TEXT NOT NULL, OffenseCode TEXT NOT NULL,OccurDate TEXT NOT NULL,Location NOT NULL);')\n",
    "cursor.execute('Insert or REPLACE into CrimeIncident(IncidentNumber, OffenseCode, OccurDate, Location) select INCIDENT_NUMBER as IncidentNumber, OFFENSE_CODE as OffenseCode, OCCURRED_ON_DATE as OccurDate, Location as Location from data;')\n",
    "cursor.execute('select * from CrimeIncident limit 5;')"
   ]
  },
  {
   "cell_type": "code",
   "execution_count": 14,
   "metadata": {},
   "outputs": [
    {
     "data": {
      "text/plain": [
       "<sqlite3.Cursor at 0x20aefe0d730>"
      ]
     },
     "execution_count": 14,
     "metadata": {},
     "output_type": "execute_result"
    }
   ],
   "source": [
    "cursor.execute('drop table if EXISTS CrimeLocation')\n",
    "cursor.execute('CREATE TABLE CrimeLocation (IncidentNumber TEXT NOT NULL, Longtitude TEXT NOT NULL,Latitude TEXT NOT NULL, Location NOT NULL, Street NOT NULL, District TEXT NOT NULL);')\n",
    "cursor.execute('Insert or IGNORE into CrimeLocation(IncidentNumber, Longtitude, Latitude, Location, Street, District) select INCIDENT_NUMBER as IncidentNumber, Long as Longtitude, Lat as Latitude, Location as Location, STREET as Street,DISTRICT as District from data;')\n",
    "cursor.execute('select * from CrimeLocation limit 5;')"
   ]
  },
  {
   "cell_type": "code",
   "execution_count": 15,
   "metadata": {},
   "outputs": [
    {
     "data": {
      "text/plain": [
       "<sqlite3.Cursor at 0x20aefe0d730>"
      ]
     },
     "execution_count": 15,
     "metadata": {},
     "output_type": "execute_result"
    }
   ],
   "source": [
    "cursor.execute('drop table if EXISTS CrimeDescript')\n",
    "cursor.execute('CREATE TABLE CrimeDescript (IncidentNumber TEXT NOT NULL, OffenseGroup TEXT NOT NULL, Shooting TEXT NOT NULL, OffenseCode TEXT NOT NULL, UCRPart TEXT NOT NULL);')\n",
    "cursor.execute('Insert or IGNORE into CrimeDescript(IncidentNumber, OffenseGroup, Shooting, OffenseCode, UCRPart) select INCIDENT_NUMBER as IncidentNumber, OFFENSE_CODE_GROUP as OffenseGroup, SHOOTING as Shooting, OFFENSE_CODE as OffenseCode, UCR_PART as UCRPart from data;')\n",
    "cursor.execute('select * from CrimeDescript limit 5;')"
   ]
  },
  {
   "cell_type": "code",
   "execution_count": 16,
   "metadata": {},
   "outputs": [
    {
     "data": {
      "text/plain": [
       "<sqlite3.Cursor at 0x20aefe0d730>"
      ]
     },
     "execution_count": 16,
     "metadata": {},
     "output_type": "execute_result"
    }
   ],
   "source": [
    "cursor.execute('drop table if EXISTS CrimeDateTime')\n",
    "cursor.execute('CREATE TABLE CrimeDateTime (IncidentNumber TEXT NOT NULL,Year TEXT NOT NULL, Day TEXT NOT NULL, Month TEXT NOT NULL, Hour TEXT NOT NULL);')\n",
    "cursor.execute('Insert or REPLACE into CrimeDateTime(IncidentNumber, Year, Day, Month, Hour) select INCIDENT_NUMBER as IncidentNumber, YEAR as Year, DAY_OF_WEEK as Day, MONTH as Month, HOUR as Hour from data;')\n",
    "cursor.execute('select * from CrimeDateTime limit 5;')"
   ]
  },
  {
   "cell_type": "code",
   "execution_count": 17,
   "metadata": {},
   "outputs": [
    {
     "name": "stdout",
     "output_type": "stream",
     "text": [
      "[('CrimeDateTime',), ('CrimeDescript',), ('CrimeIncident',), ('CrimeLocation',)]\n"
     ]
    }
   ],
   "source": [
    "cursor.execute(\"DROP TABLE data\")\n",
    "cursor.execute(\"select name from sqlite_master where type='table' order by name\")\n",
    "print (cursor.fetchall())"
   ]
  },
  {
   "cell_type": "code",
   "execution_count": 18,
   "metadata": {},
   "outputs": [],
   "source": [
    "conn.commit()\n",
    "conn.close()"
   ]
  },
  {
   "cell_type": "markdown",
   "metadata": {},
   "source": [
    "## Analysising and Basic Findings"
   ]
  },
  {
   "cell_type": "code",
   "execution_count": 19,
   "metadata": {},
   "outputs": [],
   "source": [
    "import pandas as pd\n",
    "import os\n",
    "import folium\n",
    "import numpy as np\n",
    "conn = create_connection(db_file, delete_db = False)"
   ]
  },
  {
   "cell_type": "code",
   "execution_count": 20,
   "metadata": {},
   "outputs": [
    {
     "name": "stdout",
     "output_type": "stream",
     "text": [
      "[('CrimeDateTime',), ('CrimeDescript',), ('CrimeIncident',), ('CrimeLocation',)]\n",
      "<class 'list'>\n"
     ]
    }
   ],
   "source": [
    "cursor = conn.cursor()\n",
    "sql = \"\"\"select name from sqlite_master where type = 'table' order by name\"\"\"\n",
    "cursor.execute(sql)\n",
    "result = cursor.fetchall()\n",
    "print(result)\n",
    "print(type(result))"
   ]
  },
  {
   "cell_type": "code",
   "execution_count": 21,
   "metadata": {},
   "outputs": [
    {
     "data": {
      "text/html": [
       "<div>\n",
       "<style scoped>\n",
       "    .dataframe tbody tr th:only-of-type {\n",
       "        vertical-align: middle;\n",
       "    }\n",
       "\n",
       "    .dataframe tbody tr th {\n",
       "        vertical-align: top;\n",
       "    }\n",
       "\n",
       "    .dataframe thead th {\n",
       "        text-align: right;\n",
       "    }\n",
       "</style>\n",
       "<table border=\"1\" class=\"dataframe\">\n",
       "  <thead>\n",
       "    <tr style=\"text-align: right;\">\n",
       "      <th></th>\n",
       "      <th>IncidentNumber</th>\n",
       "      <th>Year</th>\n",
       "      <th>Day</th>\n",
       "      <th>Month</th>\n",
       "      <th>Hour</th>\n",
       "    </tr>\n",
       "  </thead>\n",
       "  <tbody>\n",
       "    <tr>\n",
       "      <th>0</th>\n",
       "      <td>TESTTEST2</td>\n",
       "      <td>2019</td>\n",
       "      <td>Wednesday</td>\n",
       "      <td>10</td>\n",
       "      <td>0</td>\n",
       "    </tr>\n",
       "    <tr>\n",
       "      <th>1</th>\n",
       "      <td>S97333701</td>\n",
       "      <td>2020</td>\n",
       "      <td>Saturday</td>\n",
       "      <td>7</td>\n",
       "      <td>14</td>\n",
       "    </tr>\n",
       "    <tr>\n",
       "      <th>2</th>\n",
       "      <td>S47513131</td>\n",
       "      <td>2020</td>\n",
       "      <td>Wednesday</td>\n",
       "      <td>6</td>\n",
       "      <td>10</td>\n",
       "    </tr>\n",
       "    <tr>\n",
       "      <th>3</th>\n",
       "      <td>I92102201</td>\n",
       "      <td>2019</td>\n",
       "      <td>Friday</td>\n",
       "      <td>12</td>\n",
       "      <td>3</td>\n",
       "    </tr>\n",
       "    <tr>\n",
       "      <th>4</th>\n",
       "      <td>I92097173</td>\n",
       "      <td>2019</td>\n",
       "      <td>Wednesday</td>\n",
       "      <td>10</td>\n",
       "      <td>0</td>\n",
       "    </tr>\n",
       "  </tbody>\n",
       "</table>\n",
       "</div>"
      ],
      "text/plain": [
       "  IncidentNumber  Year        Day Month Hour\n",
       "0      TESTTEST2  2019  Wednesday    10    0\n",
       "1      S97333701  2020   Saturday     7   14\n",
       "2      S47513131  2020  Wednesday     6   10\n",
       "3      I92102201  2019     Friday    12    3\n",
       "4      I92097173  2019  Wednesday    10    0"
      ]
     },
     "execution_count": 21,
     "metadata": {},
     "output_type": "execute_result"
    }
   ],
   "source": [
    "DateTime_df = pd.read_sql_query(\"SELECT * FROM CrimeDateTime\", conn)\n",
    "DateTime_df.head()"
   ]
  },
  {
   "cell_type": "markdown",
   "metadata": {},
   "source": [
    "#### Determine if the crime incident's type is shooting or not."
   ]
  },
  {
   "cell_type": "code",
   "execution_count": 22,
   "metadata": {},
   "outputs": [
    {
     "data": {
      "text/html": [
       "<div>\n",
       "<style scoped>\n",
       "    .dataframe tbody tr th:only-of-type {\n",
       "        vertical-align: middle;\n",
       "    }\n",
       "\n",
       "    .dataframe tbody tr th {\n",
       "        vertical-align: top;\n",
       "    }\n",
       "\n",
       "    .dataframe thead th {\n",
       "        text-align: right;\n",
       "    }\n",
       "</style>\n",
       "<table border=\"1\" class=\"dataframe\">\n",
       "  <thead>\n",
       "    <tr style=\"text-align: right;\">\n",
       "      <th></th>\n",
       "      <th>IncidentNumber</th>\n",
       "      <th>OffenseGroup</th>\n",
       "      <th>Shooting</th>\n",
       "      <th>OffenseCode</th>\n",
       "      <th>UCRPart</th>\n",
       "    </tr>\n",
       "  </thead>\n",
       "  <tbody>\n",
       "    <tr>\n",
       "      <th>0</th>\n",
       "      <td>I192077645</td>\n",
       "      <td>Aggravated Assault</td>\n",
       "      <td>Y</td>\n",
       "      <td>413</td>\n",
       "      <td>Part One</td>\n",
       "    </tr>\n",
       "    <tr>\n",
       "      <th>1</th>\n",
       "      <td>I192077645</td>\n",
       "      <td>Ballistics</td>\n",
       "      <td>Y</td>\n",
       "      <td>2662</td>\n",
       "      <td>Part Two</td>\n",
       "    </tr>\n",
       "    <tr>\n",
       "      <th>2</th>\n",
       "      <td>I192077627</td>\n",
       "      <td>Aggravated Assault</td>\n",
       "      <td>Y</td>\n",
       "      <td>413</td>\n",
       "      <td>Part One</td>\n",
       "    </tr>\n",
       "    <tr>\n",
       "      <th>3</th>\n",
       "      <td>I192075921</td>\n",
       "      <td>Aggravated Assault</td>\n",
       "      <td>Y</td>\n",
       "      <td>413</td>\n",
       "      <td>Part One</td>\n",
       "    </tr>\n",
       "    <tr>\n",
       "      <th>4</th>\n",
       "      <td>I192075921</td>\n",
       "      <td>Firearm Violations</td>\n",
       "      <td>Y</td>\n",
       "      <td>1510</td>\n",
       "      <td>Part Two</td>\n",
       "    </tr>\n",
       "  </tbody>\n",
       "</table>\n",
       "</div>"
      ],
      "text/plain": [
       "  IncidentNumber        OffenseGroup Shooting OffenseCode   UCRPart\n",
       "0     I192077645  Aggravated Assault        Y         413  Part One\n",
       "1     I192077645          Ballistics        Y        2662  Part Two\n",
       "2     I192077627  Aggravated Assault        Y         413  Part One\n",
       "3     I192075921  Aggravated Assault        Y         413  Part One\n",
       "4     I192075921  Firearm Violations        Y        1510  Part Two"
      ]
     },
     "execution_count": 22,
     "metadata": {},
     "output_type": "execute_result"
    }
   ],
   "source": [
    "Descript_df = pd.read_sql_query(\"SELECT * FROM CrimeDescript\", conn)\n",
    "Descript_df.head()"
   ]
  },
  {
   "cell_type": "code",
   "execution_count": 23,
   "metadata": {},
   "outputs": [
    {
     "data": {
      "text/html": [
       "<div>\n",
       "<style scoped>\n",
       "    .dataframe tbody tr th:only-of-type {\n",
       "        vertical-align: middle;\n",
       "    }\n",
       "\n",
       "    .dataframe tbody tr th {\n",
       "        vertical-align: top;\n",
       "    }\n",
       "\n",
       "    .dataframe thead th {\n",
       "        text-align: right;\n",
       "    }\n",
       "</style>\n",
       "<table border=\"1\" class=\"dataframe\">\n",
       "  <thead>\n",
       "    <tr style=\"text-align: right;\">\n",
       "      <th></th>\n",
       "      <th>IncidentNumber</th>\n",
       "      <th>OffenseCode</th>\n",
       "      <th>OccurDate</th>\n",
       "      <th>Location</th>\n",
       "    </tr>\n",
       "  </thead>\n",
       "  <tbody>\n",
       "    <tr>\n",
       "      <th>0</th>\n",
       "      <td>TESTTEST2</td>\n",
       "      <td>423</td>\n",
       "      <td>2019-10-16 00:00:00</td>\n",
       "      <td>(0.00000000, 0.00000000)</td>\n",
       "    </tr>\n",
       "    <tr>\n",
       "      <th>1</th>\n",
       "      <td>S97333701</td>\n",
       "      <td>3301</td>\n",
       "      <td>2020-07-18 14:34:00</td>\n",
       "      <td>(42.33081300, -71.05136800)</td>\n",
       "    </tr>\n",
       "    <tr>\n",
       "      <th>2</th>\n",
       "      <td>S47513131</td>\n",
       "      <td>2647</td>\n",
       "      <td>2020-06-24 10:15:00</td>\n",
       "      <td>(42.23949100, -71.13595400)</td>\n",
       "    </tr>\n",
       "    <tr>\n",
       "      <th>3</th>\n",
       "      <td>I92102201</td>\n",
       "      <td>3301</td>\n",
       "      <td>2019-12-20 03:08:00</td>\n",
       "      <td>(42.32512200, -71.10777900)</td>\n",
       "    </tr>\n",
       "    <tr>\n",
       "      <th>4</th>\n",
       "      <td>I92097173</td>\n",
       "      <td>3115</td>\n",
       "      <td>2019-10-23 00:00:00</td>\n",
       "      <td>(42.29755500, -71.05970900)</td>\n",
       "    </tr>\n",
       "  </tbody>\n",
       "</table>\n",
       "</div>"
      ],
      "text/plain": [
       "  IncidentNumber OffenseCode            OccurDate                     Location\n",
       "0      TESTTEST2         423  2019-10-16 00:00:00     (0.00000000, 0.00000000)\n",
       "1      S97333701        3301  2020-07-18 14:34:00  (42.33081300, -71.05136800)\n",
       "2      S47513131        2647  2020-06-24 10:15:00  (42.23949100, -71.13595400)\n",
       "3      I92102201        3301  2019-12-20 03:08:00  (42.32512200, -71.10777900)\n",
       "4      I92097173        3115  2019-10-23 00:00:00  (42.29755500, -71.05970900)"
      ]
     },
     "execution_count": 23,
     "metadata": {},
     "output_type": "execute_result"
    }
   ],
   "source": [
    "Incident_df = pd.read_sql_query(\"SELECT * FROM CrimeIncident\", conn)\n",
    "Incident_df.head()"
   ]
  },
  {
   "cell_type": "code",
   "execution_count": 24,
   "metadata": {},
   "outputs": [
    {
     "data": {
      "text/html": [
       "<div>\n",
       "<style scoped>\n",
       "    .dataframe tbody tr th:only-of-type {\n",
       "        vertical-align: middle;\n",
       "    }\n",
       "\n",
       "    .dataframe tbody tr th {\n",
       "        vertical-align: top;\n",
       "    }\n",
       "\n",
       "    .dataframe thead th {\n",
       "        text-align: right;\n",
       "    }\n",
       "</style>\n",
       "<table border=\"1\" class=\"dataframe\">\n",
       "  <thead>\n",
       "    <tr style=\"text-align: right;\">\n",
       "      <th></th>\n",
       "      <th>IncidentNumber</th>\n",
       "      <th>Longtitude</th>\n",
       "      <th>Latitude</th>\n",
       "      <th>Location</th>\n",
       "      <th>Street</th>\n",
       "      <th>District</th>\n",
       "    </tr>\n",
       "  </thead>\n",
       "  <tbody>\n",
       "    <tr>\n",
       "      <th>0</th>\n",
       "      <td>S97333701</td>\n",
       "      <td>-71.051368</td>\n",
       "      <td>42.330813</td>\n",
       "      <td>(42.33081300, -71.05136800)</td>\n",
       "      <td>MARY BOYLE WAY</td>\n",
       "      <td>C6</td>\n",
       "    </tr>\n",
       "    <tr>\n",
       "      <th>1</th>\n",
       "      <td>S47513131</td>\n",
       "      <td>-71.135954</td>\n",
       "      <td>42.239491</td>\n",
       "      <td>(42.23949100, -71.13595400)</td>\n",
       "      <td>READVILLE ST</td>\n",
       "      <td>E18</td>\n",
       "    </tr>\n",
       "    <tr>\n",
       "      <th>2</th>\n",
       "      <td>I92102201</td>\n",
       "      <td>-71.107779</td>\n",
       "      <td>42.325122</td>\n",
       "      <td>(42.32512200, -71.10777900)</td>\n",
       "      <td>DAY ST</td>\n",
       "      <td>E13</td>\n",
       "    </tr>\n",
       "    <tr>\n",
       "      <th>3</th>\n",
       "      <td>I92097173</td>\n",
       "      <td>-71.059709</td>\n",
       "      <td>42.297555</td>\n",
       "      <td>(42.29755500, -71.05970900)</td>\n",
       "      <td>GIBSON ST</td>\n",
       "      <td>C11</td>\n",
       "    </tr>\n",
       "    <tr>\n",
       "      <th>4</th>\n",
       "      <td>I92094519</td>\n",
       "      <td>-71.162678</td>\n",
       "      <td>42.35512</td>\n",
       "      <td>(42.35512000, -71.16267800)</td>\n",
       "      <td>BROOKS ST</td>\n",
       "      <td>D14</td>\n",
       "    </tr>\n",
       "  </tbody>\n",
       "</table>\n",
       "</div>"
      ],
      "text/plain": [
       "  IncidentNumber  Longtitude   Latitude                     Location  \\\n",
       "0      S97333701  -71.051368  42.330813  (42.33081300, -71.05136800)   \n",
       "1      S47513131  -71.135954  42.239491  (42.23949100, -71.13595400)   \n",
       "2      I92102201  -71.107779  42.325122  (42.32512200, -71.10777900)   \n",
       "3      I92097173  -71.059709  42.297555  (42.29755500, -71.05970900)   \n",
       "4      I92094519  -71.162678   42.35512  (42.35512000, -71.16267800)   \n",
       "\n",
       "           Street District  \n",
       "0  MARY BOYLE WAY       C6  \n",
       "1    READVILLE ST      E18  \n",
       "2          DAY ST      E13  \n",
       "3       GIBSON ST      C11  \n",
       "4       BROOKS ST      D14  "
      ]
     },
     "execution_count": 24,
     "metadata": {},
     "output_type": "execute_result"
    }
   ],
   "source": [
    "Loc_df = pd.read_sql_query(\"SELECT * FROM CrimeLocation\", conn)\n",
    "Loc_df.head()"
   ]
  },
  {
   "cell_type": "code",
   "execution_count": 25,
   "metadata": {},
   "outputs": [
    {
     "name": "stdout",
     "output_type": "stream",
     "text": [
      "Aggravated Assault                 840\n",
      "Homicide                           223\n",
      "Warrant Arrests                    140\n",
      "Firearm Violations                 130\n",
      "Ballistics                          82\n",
      "Drug Violation                      56\n",
      "Search Warrants                     51\n",
      "Medical Assistance                  37\n",
      "Robbery                             26\n",
      "Vandalism                           26\n",
      "Other                               25\n",
      "Investigate Property                24\n",
      "Motor Vehicle Accident Response     13\n",
      "Investigate Person                  13\n",
      "Towed                               11\n",
      "Firearm Discovery                    7\n",
      "Simple Assault                       5\n",
      "Police Service Incidents             5\n",
      "Property Found                       5\n",
      "Missing Person Located               4\n",
      "Recovered Stolen Property            3\n",
      "Disorderly Conduct                   3\n",
      "Violations                           2\n",
      "Property Lost                        2\n",
      "Auto Theft                           1\n",
      "Manslaughter                         1\n",
      "Property Related Damage              1\n",
      "Name: OffenseGroup, dtype: int64\n",
      "None\n"
     ]
    }
   ],
   "source": [
    "print(Descript_df['OffenseGroup'].value_counts())\n",
    "\n",
    "Homicide_df = Descript_df[Descript_df.OffenseGroup == 'Homicide']\n",
    "Homicide_gun_df = Descript_df[(Descript_df.OffenseGroup == 'Homicide') & (Descript_df.Shooting == 'Y')]\n",
    "print(pd.testing.assert_frame_equal(Homicide_df, Homicide_gun_df)) \n",
    "#All Homicide incidents is gun involved !"
   ]
  },
  {
   "cell_type": "code",
   "execution_count": 26,
   "metadata": {},
   "outputs": [],
   "source": [
    "LocNtime = pd.merge(Loc_df, DateTime_df, on = 'IncidentNumber')\n",
    "LocNtime = LocNtime.drop_duplicates(['IncidentNumber'])\n",
    "# LocNtime = LocNtime.sort_values(\"OccurDate\")\n",
    "\n",
    "LocNshoot = pd.merge(Loc_df, Descript_df[Descript_df.Shooting == 'Y'], on = 'IncidentNumber')\n",
    "LocNshoot = LocNshoot.drop_duplicates(['IncidentNumber'])\n",
    "\n",
    "Timesort = pd.merge(Loc_df, Incident_df, on = 'IncidentNumber')\n",
    "Timesort = Timesort.drop_duplicates(['IncidentNumber'])\n",
    "Timesort = Timesort.sort_values(\"OccurDate\")"
   ]
  },
  {
   "cell_type": "code",
   "execution_count": null,
   "metadata": {},
   "outputs": [],
   "source": []
  },
  {
   "cell_type": "code",
   "execution_count": 27,
   "metadata": {},
   "outputs": [],
   "source": [
    "timeline = []\n",
    "dt = 1000\n",
    "import math\n",
    "for i in range(math.ceil(len(Timesort)/dt)):\n",
    "    unit = []\n",
    "    if i != math.ceil(len(Timesort)/dt):\n",
    "        lat = np.array(Timesort['Latitude'][i * dt: dt * (i + 1)])\n",
    "        lon = np.array(Timesort['Longtitude'][i * dt: dt * (i + 1)])\n",
    "    else:\n",
    "        lat = np.array(Timesort['Latitude'][i * dt: dt(Timesort)])\n",
    "        lon = np.array(Timesort['Longtitude'][i * dt: dt(Timesort)])\n",
    "    for k in range(len(lat)):\n",
    "        unit.append([lat[k], lon[k], 1])\n",
    "    timeline.append(unit)"
   ]
  },
  {
   "cell_type": "markdown",
   "metadata": {},
   "source": [
    "#### Folium is a API of python. We can use folium method to achieve data visualization, create heatmap, then it will show the distribution of crime incidents."
   ]
  },
  {
   "cell_type": "code",
   "execution_count": 28,
   "metadata": {},
   "outputs": [],
   "source": [
    "from folium.plugins import HeatMap"
   ]
  },
  {
   "cell_type": "code",
   "execution_count": 29,
   "metadata": {},
   "outputs": [],
   "source": [
    "LocNtime = LocNtime.dropna()"
   ]
  },
  {
   "cell_type": "code",
   "execution_count": 30,
   "metadata": {},
   "outputs": [],
   "source": [
    "lat1 = np.array(LocNshoot[\"Latitude\"][0:len(LocNshoot)])\n",
    "lon1 = np.array(LocNshoot[\"Longtitude\"][0:len(LocNshoot)])\n",
    "lat2 = np.array(Loc_df[\"Latitude\"][0:len(Loc_df)])\n",
    "lon2 = np.array(Loc_df[\"Longtitude\"][0:len(Loc_df)])"
   ]
  },
  {
   "cell_type": "code",
   "execution_count": 31,
   "metadata": {},
   "outputs": [],
   "source": [
    "data1 = [[lat1[i],lon1[i], 10] for i in range(len(LocNshoot))]\n",
    "data2 = [[lat2[i],lon2[i], 10] for i in range(len(Loc_df))]\n",
    "data = [data1, data2]"
   ]
  },
  {
   "cell_type": "markdown",
   "metadata": {},
   "source": [
    "### Added police station information"
   ]
  },
  {
   "cell_type": "code",
   "execution_count": 32,
   "metadata": {},
   "outputs": [
    {
     "data": {
      "text/plain": [
       "[[42.25648154053115, -71.1242694364363],\n",
       " [42.28678559406873, -71.1483677535003],\n",
       " [42.37105778191191, -71.038676422262],\n",
       " [42.36182512483834, -71.06030726710203],\n",
       " [42.34939451098003, -71.15057831812406],\n",
       " [42.376466657027564, -71.05604713089605],\n",
       " [42.34116404075056, -71.0549362848868],\n",
       " [42.3394396731001, -71.06923975700296],\n",
       " [42.33419233077249, -71.09074751951269],\n",
       " [42.328385389008155, -71.08568434891998],\n",
       " [42.30972244524441, -71.1046392167474],\n",
       " [42.28472892910123, -71.0917019913962],\n",
       " [42.298065504218826, -71.05916492056069]]"
      ]
     },
     "execution_count": 32,
     "metadata": {},
     "output_type": "execute_result"
    }
   ],
   "source": [
    "#####Police Station Info\n",
    "policedf = pd.read_csv('Boston_Police_Station.csv')\n",
    "policedf.head()\n",
    "pl_lat = np.array(policedf[\"Y\"][0:len(policedf)])\n",
    "pl_lon = np.array(policedf[\"X\"][0:len(policedf)])\n",
    "data_pl = [[pl_lat[i],pl_lon[i]] for i in range(len(pl_lon))]\n",
    "data_pl"
   ]
  },
  {
   "cell_type": "code",
   "execution_count": 33,
   "metadata": {},
   "outputs": [],
   "source": [
    "def style(feature):\n",
    "    return {'fillOpacity': 0,\n",
    "        'weight': 2,\n",
    "        'color':'#06FDFD'\n",
    "           }"
   ]
  },
  {
   "cell_type": "markdown",
   "metadata": {},
   "source": [
    "## Heatmap\n",
    "### Heatmap shows locations of the shootings and police station radiuses."
   ]
  },
  {
   "cell_type": "code",
   "execution_count": 35,
   "metadata": {},
   "outputs": [],
   "source": [
    "#####shoot/not shoot comparison heatmap\n",
    "import folium.plugins as plugins\n",
    "m = folium.Map([42.32, -71.1], tiles='stamentoner', control_scale = True, zoom_start = 12)\n",
    "hm = plugins.HeatMapWithTime(data, radius = 10)\n",
    "hm.add_to(m)\n",
    "for i in range(len(data_pl)):\n",
    "    folium.Circle(\n",
    "        radius=1000,\n",
    "        location = data_pl[i],\n",
    "        popup = 'The Waterfront',\n",
    "        color= '#641E16',\n",
    "        fill=True,\n",
    ").add_to(m)\n",
    "m.add_child(folium.GeoJson('City_of_Boston_Boundary.geojson',style_function = style, name='geojson'))\n",
    "m.save('Heatmapshootandall.html')"
   ]
  },
  {
   "cell_type": "code",
   "execution_count": 36,
   "metadata": {},
   "outputs": [],
   "source": [
    "#####Time Flow heatmap\n",
    "m2 = folium.Map([42.32, -71.1], tiles='stamentoner', control_scale = True, zoom_start = 12)\n",
    "hm2 = plugins.HeatMapWithTime(timeline, radius= 10)\n",
    "hm2.add_to(m2)\n",
    "for i in range(len(data_pl)):\n",
    "    folium.Circle(\n",
    "        radius=1000,\n",
    "        location = data_pl[i],\n",
    "        popup = 'The Waterfront',\n",
    "        color='#641E16',\n",
    "        fill=True,\n",
    ").add_to(m2)\n",
    "m2.add_child(folium.GeoJson('City_of_Boston_Boundary.geojson',style_function = style, name='geojson'))\n",
    "m2.save('time.html')"
   ]
  },
  {
   "cell_type": "markdown",
   "metadata": {},
   "source": [
    "## Bar Graphs & Pie Charts"
   ]
  },
  {
   "cell_type": "code",
   "execution_count": 37,
   "metadata": {},
   "outputs": [],
   "source": [
    "import matplotlib.pyplot as plt\n",
    "from pylab import *"
   ]
  },
  {
   "cell_type": "code",
   "execution_count": 38,
   "metadata": {},
   "outputs": [
    {
     "data": {
      "image/png": "[encoded data removed]",
      "text/plain": [
       "<Figure size 432x288 with 1 Axes>"
      ]
     },
     "metadata": {
      "needs_background": "light"
     },
     "output_type": "display_data"
    }
   ],
   "source": [
    "crime_in_day = DateTime_df.Day.value_counts().sort_values().plot(title = 'Day of Crime',kind= \"barh\")\n",
    "fig_DateTime_df = crime_in_day.get_figure()\n",
    "fig_DateTime_df.savefig(\"Day of Crime.png\")"
   ]
  },
  {
   "cell_type": "markdown",
   "metadata": {},
   "source": [
    "Fridays seem to crime most likely happened."
   ]
  },
  {
   "cell_type": "code",
   "execution_count": 39,
   "metadata": {},
   "outputs": [
    {
     "data": {
      "image/png": "[encoded data removed]",
      "text/plain": [
       "<Figure size 432x288 with 1 Axes>"
      ]
     },
     "metadata": {
      "needs_background": "light"
     },
     "output_type": "display_data"
    }
   ],
   "source": [
    "street_of_crime = Loc_df.Street.value_counts().iloc[:15].sort_values().plot(title = 'Crime in Street', kind= \"barh\")\n",
    "fig_Loc_df = street_of_crime.get_figure()\n",
    "fig_Loc_df.savefig(\"Crime in Street.png\")"
   ]
  },
  {
   "cell_type": "markdown",
   "metadata": {},
   "source": [
    "Washington St. happens much more crimes than other street."
   ]
  },
  {
   "cell_type": "code",
   "execution_count": 40,
   "metadata": {},
   "outputs": [
    {
     "data": {
      "image/png": "[encoded data removed]",
      "text/plain": [
       "<Figure size 432x288 with 1 Axes>"
      ]
     },
     "metadata": {
      "needs_background": "light"
     },
     "output_type": "display_data"
    }
   ],
   "source": [
    "crime_in_street_shoot = LocNshoot.Street.value_counts().iloc[:15].sort_values().plot(title = 'Crime in Street (shooting)', kind= \"barh\")\n",
    "fig_crime_in_street_shoot = crime_in_street_shoot.get_figure()\n",
    "fig_crime_in_street_shoot.savefig(\"Crime in Street (Shooting).png\")"
   ]
  },
  {
   "cell_type": "markdown",
   "metadata": {},
   "source": [
    "Blue Hill Ave happens shooting crime the most."
   ]
  },
  {
   "cell_type": "code",
   "execution_count": null,
   "metadata": {},
   "outputs": [],
   "source": []
  },
  {
   "cell_type": "code",
   "execution_count": 56,
   "metadata": {},
   "outputs": [
    {
     "data": {
      "image/png": "[encoded data removed]",
      "text/plain": [
       "<Figure size 648x648 with 1 Axes>"
      ]
     },
     "metadata": {},
     "output_type": "display_data"
    }
   ],
   "source": [
    "df_LocNshoot = LocNshoot.District.value_counts()\n",
    "\n",
    "fraces_shooting = []\n",
    "explode_shooting = []\n",
    "plt.figure(figsize=(9,9))\n",
    "labels =['B2:Roxbury','C11:Dorchester','D4:South End','B3:Mattapan','A1:Downtown','C6:South Boston','D14:Brighton','E18:Hyde Park','E13:Jamaica Plain','E5:West Roxbury','A7:East Boston','A15:Charlestown']\n",
    "for i in df_LocNshoot:\n",
    "    fraces_shooting.append(i)\n",
    "    explode_shooting.append(0)\n",
    "\n",
    "explode_shooting[0] = 0.1\n",
    "plt.axes(aspect = 1)\n",
    "plt.title(\"Crime distribution in each district (shooting)\",fontsize=15)\n",
    "\n",
    "plt.pie(x = fraces_shooting,labels= labels,autopct='%0f%%',explode= explode_shooting,shadow=True)\n",
    "\n",
    "plt.savefig('Crime distribution in each district (shooting).png')\n",
    "\n",
    "plt.show()"
   ]
  },
  {
   "cell_type": "markdown",
   "metadata": {},
   "source": [
    "Percentage of shooting happens in each district. B2(Roxbury) got the most."
   ]
  },
  {
   "cell_type": "code",
   "execution_count": 57,
   "metadata": {},
   "outputs": [
    {
     "data": {
      "image/png": "[encoded data removed]",
      "text/plain": [
       "<Figure size 432x288 with 1 Axes>"
      ]
     },
     "metadata": {
      "needs_background": "light"
     },
     "output_type": "display_data"
    }
   ],
   "source": [
    "#df2.groupby(\"OffenseGroup\").size().plot(kind = \"bar\")\n",
    "OffenseGroup_Descript_df = Descript_df.OffenseGroup.value_counts().iloc[:11].sort_values().plot(title = 'Number of Offense Group',kind= \"barh\")\n",
    "fig_OffenseGroup_Descript_df = OffenseGroup_Descript_df.get_figure()\n",
    "fig_OffenseGroup_Descript_df.savefig(\"Offense Group.png\")"
   ]
  },
  {
   "cell_type": "markdown",
   "metadata": {},
   "source": [
    "The biggest number of offense group is aggravated assault. It is much more than the others."
   ]
  },
  {
   "cell_type": "code",
   "execution_count": 58,
   "metadata": {},
   "outputs": [
    {
     "data": {
      "image/png": "[encoded data removed]",
      "text/plain": [
       "<Figure size 432x288 with 1 Axes>"
      ]
     },
     "metadata": {
      "needs_background": "light"
     },
     "output_type": "display_data"
    }
   ],
   "source": [
    "# df1.index = pd.CategoricalIndex(df1.index, \n",
    "#                                categories=['1','2','3','4','5','6','7','8','9','10','11','12'])\n",
    "categories=['1','2','3','4','5','6','7','8','9','10','11','12']\n",
    "df1_month = DateTime_df.groupby(\"Month\").size().sort_values().plot(title = 'Crime in Each Month', kind = \"bar\",tick_label=categories)\n",
    "fig_df1_month = df1_month.get_figure()\n",
    "fig_df1_month.savefig(\"Crime in Each Month.png\")\n",
    "#'1','2','3','4','5','6','7','8','9','10','11','12'"
   ]
  },
  {
   "cell_type": "markdown",
   "metadata": {},
   "source": [
    "In autumn and late summer crime easily happened."
   ]
  },
  {
   "cell_type": "code",
   "execution_count": 40,
   "metadata": {},
   "outputs": [
    {
     "data": {
      "image/png": "[encoded data removed]",
      "text/plain": [
       "<Figure size 432x288 with 1 Axes>"
      ]
     },
     "metadata": {
      "needs_background": "light"
     },
     "output_type": "display_data"
    }
   ],
   "source": [
    "hour_DateTime_df = DateTime_df.groupby(\"Hour\").size().sort_values().plot(title = 'Crime in Hour', kind = \"bar\")\n",
    "fig_hour_DateTime_df = hour_DateTime_df.get_figure()\n",
    "fig_hour_DateTime_df.savefig(\"Crime in Hour.png\")"
   ]
  },
  {
   "cell_type": "markdown",
   "metadata": {},
   "source": [
    "Crime easily happened before night."
   ]
  },
  {
   "cell_type": "code",
   "execution_count": null,
   "metadata": {},
   "outputs": [],
   "source": []
  }
 ],
 "metadata": {
  "kernelspec": {
   "display_name": "Python 3",
   "language": "python",
   "name": "python3"
  },
  "language_info": {
   "codemirror_mode": {
    "name": "ipython",
    "version": 3
   },
   "file_extension": ".py",
   "mimetype": "text/x-python",
   "name": "python",
   "nbconvert_exporter": "python",
   "pygments_lexer": "ipython3",
   "version": "3.7.7"
  }
 },
 "nbformat": 4,
 "nbformat_minor": 2
}
